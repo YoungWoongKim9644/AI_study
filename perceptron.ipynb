{
 "cells": [
  {
   "cell_type": "code",
   "execution_count": 3,
   "metadata": {},
   "outputs": [],
   "source": [
    "import matplotlib.pyplot as plt\n",
    "import tensorflow.compat.v1 as tf\n",
    "tf.disable_v2_behavior()\n",
    "import numpy as np\n",
    "\n",
    "NUM_FEATURES = 2\n",
    "NUM_ITER = 200\n",
    "learning_rate = 0.01"
   ]
  },
  {
   "cell_type": "code",
   "execution_count": 12,
   "metadata": {},
   "outputs": [
    {
     "name": "stdout",
     "output_type": "stream",
     "text": [
      "W:[0.39080566 0.38787308]\n",
      "b:[-1.0801327]\n",
      "plot_y: [2.9862702 1.5756853]\n"
     ]
    },
    {
     "data": {
      "image/png": "[encoded data removed]",
      "text/plain": [
       "<Figure size 432x288 with 1 Axes>"
      ]
     },
     "metadata": {
      "needs_background": "light"
     },
     "output_type": "display_data"
    },
    {
     "data": {
      "text/plain": [
       "[<matplotlib.lines.Line2D at 0x25b45c6ebe0>]"
      ]
     },
     "execution_count": 12,
     "metadata": {},
     "output_type": "execute_result"
    },
    {
     "data": {
      "image/png": "[encoded data removed]",
      "text/plain": [
       "<Figure size 432x288 with 1 Axes>"
      ]
     },
     "metadata": {
      "needs_background": "light"
     },
     "output_type": "display_data"
    }
   ],
   "source": [
    "#%% perceptron as a simple linear classifier\n",
    "\n",
    "x = np.array([[0, 0], [1, 0], [1, 1], [0, 1]], np.float32)  # 4x2, input\n",
    "y = np.array([0, 0, 1, 0], np.float32)                      # 4, correct output, AND operation\n",
    "#y = np.array([0, 1, 1, 1], np.float32)                     # OR operation\n",
    "\n",
    "W = np.zeros(NUM_FEATURES, np.float32)                      # 2x1, weight\n",
    "b = np.zeros(1, np.float32)                                 # 1x1\n",
    "\n",
    "N, d = np.shape(x)           # number of samples and number of features\n",
    "\n",
    "# process each sample separately\n",
    "for k in range(NUM_ITER):\n",
    "    for j in range(N):\n",
    "        yHat_j = x[j, :].dot(W) + b    # 1x2, 2x1\n",
    "        yHat_j = 1.0 / (1.0 + np.exp(-yHat_j))\n",
    "\n",
    "        err = y[j] - yHat_j      # error term\n",
    "\n",
    "        deltaW = err * x[j, :]\n",
    "        deltaB = err\n",
    "        W = W + learning_rate * deltaW              # if err = y - yHat, then W = W + lRate * deltW\n",
    "        b = b + learning_rate * deltaB\n",
    "\n",
    "\n",
    "# Now plot the fitted line. We need only two points to plot the line\n",
    "plot_x = np.array([np.min(x[:, 0] - 0.2), np.max(x[:, 1]+0.2)])\n",
    "plot_y = - 1 / W[1] * (W[0] * plot_x + b)  # comes from, w0*x + w1*y + b = 0  then y = (-1/w1) (w0*x + b)\n",
    "\n",
    "print('W:' + str(W))\n",
    "print('b:' + str(b))\n",
    "print('plot_y: '+ str(plot_y))\n",
    "\n",
    "plt.scatter(x[:, 0], x[:, 1], c=y, s=100, cmap='viridis')\n",
    "plt.xlim([-0.2, 1.2]); plt.ylim([-0.2, 1.25]);\n",
    "plt.show()\n",
    "plt.plot(plot_x, plot_y, color='b', linewidth=2)"
   ]
  },
  {
   "cell_type": "code",
   "execution_count": null,
   "metadata": {},
   "outputs": [],
   "source": []
  }
 ],
 "metadata": {
  "kernelspec": {
   "display_name": "Python 3",
   "language": "python",
   "name": "python3"
  },
  "language_info": {
   "codemirror_mode": {
    "name": "ipython",
    "version": 3
   },
   "file_extension": ".py",
   "mimetype": "text/x-python",
   "name": "python",
   "nbconvert_exporter": "python",
   "pygments_lexer": "ipython3",
   "version": "3.6.9"
  }
 },
 "nbformat": 4,
 "nbformat_minor": 2
}
